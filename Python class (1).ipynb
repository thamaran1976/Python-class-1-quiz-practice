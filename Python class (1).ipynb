{
 "cells": [
  {
   "cell_type": "code",
   "execution_count": 2,
   "id": "5fd40c2a-3709-4eeb-8460-c46b67f11b34",
   "metadata": {},
   "outputs": [],
   "source": [
    "_b = 34"
   ]
  },
  {
   "cell_type": "code",
   "execution_count": 4,
   "id": "8f68ac59-b95a-4c23-831a-4ac6598c348e",
   "metadata": {},
   "outputs": [
    {
     "ename": "SyntaxError",
     "evalue": "cannot assign to True (3093263138.py, line 1)",
     "output_type": "error",
     "traceback": [
      "\u001b[0;36m  Cell \u001b[0;32mIn[4], line 1\u001b[0;36m\u001b[0m\n\u001b[0;31m    True = 45\u001b[0m\n\u001b[0m    ^\u001b[0m\n\u001b[0;31mSyntaxError\u001b[0m\u001b[0;31m:\u001b[0m cannot assign to True\n"
     ]
    }
   ],
   "source": [
    "True = 45"
   ]
  },
  {
   "cell_type": "code",
   "execution_count": 9,
   "id": "314dd036-ce08-4710-91e7-9264509bc4f1",
   "metadata": {},
   "outputs": [],
   "source": [
    "b1 = True"
   ]
  },
  {
   "cell_type": "code",
   "execution_count": 11,
   "id": "e23807c8-170c-4962-a303-bf2e97f79d4e",
   "metadata": {},
   "outputs": [],
   "source": [
    "b2 = False"
   ]
  },
  {
   "cell_type": "code",
   "execution_count": 14,
   "id": "ca332733-0463-4381-bf60-32981001820f",
   "metadata": {},
   "outputs": [
    {
     "data": {
      "text/plain": [
       "1"
      ]
     },
     "execution_count": 14,
     "metadata": {},
     "output_type": "execute_result"
    }
   ],
   "source": [
    "b1-b2"
   ]
  },
  {
   "cell_type": "code",
   "execution_count": 16,
   "id": "c0467aa3-4703-49e7-b283-26892ddb1656",
   "metadata": {},
   "outputs": [
    {
     "data": {
      "text/plain": [
       "1"
      ]
     },
     "execution_count": 16,
     "metadata": {},
     "output_type": "execute_result"
    }
   ],
   "source": [
    "b1*b1"
   ]
  },
  {
   "cell_type": "code",
   "execution_count": 18,
   "id": "36b12dde-0638-4301-a5ad-faf871143f99",
   "metadata": {},
   "outputs": [
    {
     "ename": "ZeroDivisionError",
     "evalue": "division by zero",
     "output_type": "error",
     "traceback": [
      "\u001b[0;31m---------------------------------------------------------------------------\u001b[0m",
      "\u001b[0;31mZeroDivisionError\u001b[0m                         Traceback (most recent call last)",
      "Cell \u001b[0;32mIn[18], line 1\u001b[0m\n\u001b[0;32m----> 1\u001b[0m \u001b[43mb1\u001b[49m\u001b[38;5;241;43m/\u001b[39;49m\u001b[43mb2\u001b[49m\n",
      "\u001b[0;31mZeroDivisionError\u001b[0m: division by zero"
     ]
    }
   ],
   "source": [
    "b1/b2"
   ]
  },
  {
   "cell_type": "code",
   "execution_count": 22,
   "id": "acd1e16b-90ea-4638-9202-7d2039ee6a60",
   "metadata": {},
   "outputs": [],
   "source": [
    "s1 = \"My name is Ramasubbu\""
   ]
  },
  {
   "cell_type": "code",
   "execution_count": 24,
   "id": "e3bc6de0-d91d-44c7-98c1-9eaaa292c141",
   "metadata": {},
   "outputs": [
    {
     "data": {
      "text/plain": [
       "'My name is Ramasubbu'"
      ]
     },
     "execution_count": 24,
     "metadata": {},
     "output_type": "execute_result"
    }
   ],
   "source": [
    "s1"
   ]
  },
  {
   "cell_type": "code",
   "execution_count": 26,
   "id": "182e68c1-814f-49d7-988f-aeda2c36975a",
   "metadata": {},
   "outputs": [
    {
     "data": {
      "text/plain": [
       "str"
      ]
     },
     "execution_count": 26,
     "metadata": {},
     "output_type": "execute_result"
    }
   ],
   "source": [
    "type(s1)"
   ]
  },
  {
   "cell_type": "code",
   "execution_count": 28,
   "id": "7448d409-5b5e-4b14-bf65-fdec2256fd45",
   "metadata": {},
   "outputs": [
    {
     "ename": "SyntaxError",
     "evalue": "unterminated string literal (detected at line 1) (2276838593.py, line 1)",
     "output_type": "error",
     "traceback": [
      "\u001b[0;36m  Cell \u001b[0;32mIn[28], line 1\u001b[0;36m\u001b[0m\n\u001b[0;31m    s2 = 'This is my first python class for data master's'\u001b[0m\n\u001b[0m                                                         ^\u001b[0m\n\u001b[0;31mSyntaxError\u001b[0m\u001b[0;31m:\u001b[0m unterminated string literal (detected at line 1)\n"
     ]
    }
   ],
   "source": [
    "s2 = 'This is my first python class for data master's'"
   ]
  },
  {
   "cell_type": "code",
   "execution_count": 29,
   "id": "8744e44b-b2e6-46e3-8c89-0915a05b378a",
   "metadata": {},
   "outputs": [],
   "source": [
    "s2 = \"This is my first python class for data master's\""
   ]
  },
  {
   "cell_type": "code",
   "execution_count": 31,
   "id": "9de736ee-794d-45a1-83a8-d3ea562e22b0",
   "metadata": {},
   "outputs": [
    {
     "data": {
      "text/plain": [
       "\"This is my first python class for data master's\""
      ]
     },
     "execution_count": 31,
     "metadata": {},
     "output_type": "execute_result"
    }
   ],
   "source": [
    "s2"
   ]
  },
  {
   "cell_type": "code",
   "execution_count": 32,
   "id": "f33c02dd-cc82-4386-b223-ce191ae292f0",
   "metadata": {},
   "outputs": [],
   "source": [
    "#this is my code to create a string variable within quotes\n",
    "\n",
    "s2 = 'This is my first python class for data master\"s'"
   ]
  },
  {
   "cell_type": "code",
   "execution_count": 34,
   "id": "bf5b71b3-f002-46d4-89e4-940ad1ac5aa3",
   "metadata": {},
   "outputs": [
    {
     "data": {
      "text/plain": [
       "'This is my first python class for data master\"s'"
      ]
     },
     "execution_count": 34,
     "metadata": {},
     "output_type": "execute_result"
    }
   ],
   "source": [
    "s2"
   ]
  },
  {
   "cell_type": "code",
   "execution_count": 36,
   "id": "33cc2348-ac36-4816-b2ef-dd57cc005a11",
   "metadata": {},
   "outputs": [
    {
     "data": {
      "text/plain": [
       "'This is my first python class for data master\"s'"
      ]
     },
     "execution_count": 36,
     "metadata": {},
     "output_type": "execute_result"
    }
   ],
   "source": [
    "s2"
   ]
  },
  {
   "cell_type": "code",
   "execution_count": 38,
   "id": "17e20929-4b5c-4043-b69d-9f617dd7cf3f",
   "metadata": {},
   "outputs": [],
   "source": [
    "'''this is my first python class \n",
    "I am trying to learn variable decleration\n",
    "So far I have learnt int, floating, complex numbers, strings, boolean variable declaration'''\n",
    "a = 10"
   ]
  },
  {
   "cell_type": "code",
   "execution_count": 39,
   "id": "85a7e6a5-5b9a-4c81-9be0-9487d1641725",
   "metadata": {},
   "outputs": [],
   "source": [
    "s1 = \"rama\""
   ]
  },
  {
   "cell_type": "code",
   "execution_count": 40,
   "id": "a8e6763e-3647-42d1-a6db-1210d630a7ca",
   "metadata": {},
   "outputs": [],
   "source": [
    "a = 10"
   ]
  },
  {
   "cell_type": "code",
   "execution_count": 2,
   "id": "391eb2c6-e6a4-42db-a02b-23222dd39384",
   "metadata": {},
   "outputs": [
    {
     "ename": "NameError",
     "evalue": "name 's1' is not defined",
     "output_type": "error",
     "traceback": [
      "\u001b[0;31m---------------------------------------------------------------------------\u001b[0m",
      "\u001b[0;31mNameError\u001b[0m                                 Traceback (most recent call last)",
      "Cell \u001b[0;32mIn[2], line 1\u001b[0m\n\u001b[0;32m----> 1\u001b[0m \u001b[43ms1\u001b[49m \u001b[38;5;241m+\u001b[39m \u001b[38;5;124m\"\u001b[39m\u001b[38;5;124m \u001b[39m\u001b[38;5;124m\"\u001b[39m \u001b[38;5;241m+\u001b[39m \u001b[38;5;28mstr\u001b[39m(\u001b[38;5;241m10\u001b[39m)\n",
      "\u001b[0;31mNameError\u001b[0m: name 's1' is not defined"
     ]
    }
   ],
   "source": [
    "s1 + \" \" + str(10)"
   ]
  },
  {
   "cell_type": "code",
   "execution_count": 44,
   "id": "01515659-4f19-4cca-90bf-a8a93da7a485",
   "metadata": {},
   "outputs": [
    {
     "data": {
      "text/plain": [
       "'ramasubbu'"
      ]
     },
     "execution_count": 44,
     "metadata": {},
     "output_type": "execute_result"
    }
   ],
   "source": [
    "\"rama\" + \"subbu\""
   ]
  },
  {
   "cell_type": "code",
   "execution_count": 46,
   "id": "4a5ad8af-d498-40e7-9717-2672b3234eb3",
   "metadata": {},
   "outputs": [
    {
     "data": {
      "text/plain": [
       "'rama10'"
      ]
     },
     "execution_count": 46,
     "metadata": {},
     "output_type": "execute_result"
    }
   ],
   "source": [
    "s1+ str(a)"
   ]
  },
  {
   "cell_type": "code",
   "execution_count": 4,
   "id": "514a4e40-7073-4fde-9c9b-d4d2ef0e1d92",
   "metadata": {},
   "outputs": [
    {
     "ename": "NameError",
     "evalue": "name 's1' is not defined",
     "output_type": "error",
     "traceback": [
      "\u001b[0;31m---------------------------------------------------------------------------\u001b[0m",
      "\u001b[0;31mNameError\u001b[0m                                 Traceback (most recent call last)",
      "Cell \u001b[0;32mIn[4], line 1\u001b[0m\n\u001b[0;32m----> 1\u001b[0m \u001b[43ms1\u001b[49m \u001b[38;5;241m+\u001b[39m \u001b[38;5;124m\"\u001b[39m\u001b[38;5;124m \u001b[39m\u001b[38;5;124m\"\u001b[39m \u001b[38;5;241m+\u001b[39m \u001b[38;5;28mstr\u001b[39m(\u001b[38;5;241m10\u001b[39m)\n",
      "\u001b[0;31mNameError\u001b[0m: name 's1' is not defined"
     ]
    }
   ],
   "source": [
    "s1 + \" \" + str(10)"
   ]
  },
  {
   "cell_type": "code",
   "execution_count": 5,
   "id": "d60b7705-e0bf-45cb-95fd-2f70de1dd828",
   "metadata": {},
   "outputs": [],
   "source": [
    "s1 = \"rama\""
   ]
  },
  {
   "cell_type": "code",
   "execution_count": 6,
   "id": "5d66ce9b-52e5-48ed-802b-7afeb287a401",
   "metadata": {},
   "outputs": [],
   "source": [
    "a = 10"
   ]
  },
  {
   "cell_type": "code",
   "execution_count": 8,
   "id": "75ef4f5f-28fe-4bbf-ab41-8ef751f720f4",
   "metadata": {},
   "outputs": [
    {
     "data": {
      "text/plain": [
       "'rama 10'"
      ]
     },
     "execution_count": 8,
     "metadata": {},
     "output_type": "execute_result"
    }
   ],
   "source": [
    "s1 + \" \" + str(a)"
   ]
  },
  {
   "cell_type": "code",
   "execution_count": 10,
   "id": "ebd7e501-2cd9-4ffb-bfc9-ac3f718b865e",
   "metadata": {},
   "outputs": [
    {
     "data": {
      "text/plain": [
       "10"
      ]
     },
     "execution_count": 10,
     "metadata": {},
     "output_type": "execute_result"
    }
   ],
   "source": [
    "a"
   ]
  },
  {
   "cell_type": "code",
   "execution_count": 12,
   "id": "3ca99f65-ab99-4d90-9384-f6a078c82da2",
   "metadata": {},
   "outputs": [],
   "source": [
    "b = str(a)"
   ]
  },
  {
   "cell_type": "code",
   "execution_count": 14,
   "id": "86242d23-c4ac-4857-b63f-5acfb993abce",
   "metadata": {},
   "outputs": [
    {
     "data": {
      "text/plain": [
       "'10'"
      ]
     },
     "execution_count": 14,
     "metadata": {},
     "output_type": "execute_result"
    }
   ],
   "source": [
    "b"
   ]
  },
  {
   "cell_type": "code",
   "execution_count": 16,
   "id": "e7cb6077-0ef5-4dee-885e-6269a88e95a9",
   "metadata": {},
   "outputs": [
    {
     "data": {
      "text/plain": [
       "10"
      ]
     },
     "execution_count": 16,
     "metadata": {},
     "output_type": "execute_result"
    }
   ],
   "source": [
    "int(b)"
   ]
  },
  {
   "cell_type": "code",
   "execution_count": 17,
   "id": "b51aef9a-4bd0-47d1-be90-e49b4eaa6dd7",
   "metadata": {},
   "outputs": [],
   "source": [
    "s = \"ramar\""
   ]
  },
  {
   "cell_type": "code",
   "execution_count": 19,
   "id": "3efde682-0a41-4e5d-8ebe-b6398f5e9754",
   "metadata": {},
   "outputs": [
    {
     "ename": "ValueError",
     "evalue": "invalid literal for int() with base 10: 'ramar'",
     "output_type": "error",
     "traceback": [
      "\u001b[0;31m---------------------------------------------------------------------------\u001b[0m",
      "\u001b[0;31mValueError\u001b[0m                                Traceback (most recent call last)",
      "Cell \u001b[0;32mIn[19], line 1\u001b[0m\n\u001b[0;32m----> 1\u001b[0m \u001b[38;5;28;43mint\u001b[39;49m\u001b[43m(\u001b[49m\u001b[43ms\u001b[49m\u001b[43m)\u001b[49m\n",
      "\u001b[0;31mValueError\u001b[0m: invalid literal for int() with base 10: 'ramar'"
     ]
    }
   ],
   "source": [
    "int(s)"
   ]
  },
  {
   "cell_type": "code",
   "execution_count": 20,
   "id": "3ccb0ef5-73ed-4456-bc95-61b01cd56d50",
   "metadata": {},
   "outputs": [],
   "source": [
    "a = 345678"
   ]
  },
  {
   "cell_type": "code",
   "execution_count": 22,
   "id": "d5295d95-b626-443a-8a31-6a18ed71c833",
   "metadata": {},
   "outputs": [
    {
     "name": "stdin",
     "output_type": "stream",
     "text": [
      " 564845\n"
     ]
    }
   ],
   "source": [
    "b = input()"
   ]
  },
  {
   "cell_type": "code",
   "execution_count": 26,
   "id": "aad1d82f-3b93-4f7d-bc9c-b3e2d1575b73",
   "metadata": {},
   "outputs": [
    {
     "data": {
      "text/plain": [
       "int"
      ]
     },
     "execution_count": 26,
     "metadata": {},
     "output_type": "execute_result"
    }
   ],
   "source": [
    "type(int(b))"
   ]
  },
  {
   "cell_type": "code",
   "execution_count": 29,
   "id": "f0e5cb1b-b3f9-41b1-afb7-3fac94b4ee34",
   "metadata": {},
   "outputs": [
    {
     "name": "stdin",
     "output_type": "stream",
     "text": [
      " 7878\n"
     ]
    }
   ],
   "source": [
    "b = int(input())"
   ]
  },
  {
   "cell_type": "code",
   "execution_count": 31,
   "id": "64ff131b-12d5-42e6-9d24-14dccfead002",
   "metadata": {},
   "outputs": [
    {
     "data": {
      "text/plain": [
       "int"
      ]
     },
     "execution_count": 31,
     "metadata": {},
     "output_type": "execute_result"
    }
   ],
   "source": [
    "type(b)"
   ]
  },
  {
   "cell_type": "code",
   "execution_count": 33,
   "id": "4c5f6e14-3fe8-422d-93ba-ebcabfda2cda",
   "metadata": {},
   "outputs": [
    {
     "data": {
      "text/plain": [
       "7878"
      ]
     },
     "execution_count": 33,
     "metadata": {},
     "output_type": "execute_result"
    }
   ],
   "source": [
    "b"
   ]
  },
  {
   "cell_type": "code",
   "execution_count": 37,
   "id": "2f68052a-53a9-471f-9b65-7cd8ae7462c4",
   "metadata": {},
   "outputs": [
    {
     "name": "stdin",
     "output_type": "stream",
     "text": [
      " 68878.88\n"
     ]
    }
   ],
   "source": [
    "b = float (input())"
   ]
  },
  {
   "cell_type": "code",
   "execution_count": 39,
   "id": "4d94a0bb-4ee7-4cae-aef2-7060e5732676",
   "metadata": {},
   "outputs": [
    {
     "data": {
      "text/plain": [
       "float"
      ]
     },
     "execution_count": 39,
     "metadata": {},
     "output_type": "execute_result"
    }
   ],
   "source": [
    "type(b)"
   ]
  },
  {
   "cell_type": "code",
   "execution_count": 41,
   "id": "4cccb933-75fa-4e28-8300-a70f74d7b395",
   "metadata": {},
   "outputs": [
    {
     "data": {
      "text/plain": [
       "68878.88"
      ]
     },
     "execution_count": 41,
     "metadata": {},
     "output_type": "execute_result"
    }
   ],
   "source": [
    "b"
   ]
  },
  {
   "cell_type": "code",
   "execution_count": 3,
   "id": "fb5fae34-642b-43ee-9471-c7697268a157",
   "metadata": {},
   "outputs": [
    {
     "name": "stdin",
     "output_type": "stream",
     "text": [
      " 88989\n"
     ]
    }
   ],
   "source": [
    "b = int(input())"
   ]
  },
  {
   "cell_type": "code",
   "execution_count": 4,
   "id": "f2cc126e-2f9e-4d85-92c3-afc11dadebbb",
   "metadata": {},
   "outputs": [
    {
     "data": {
      "text/plain": [
       "88989"
      ]
     },
     "execution_count": 4,
     "metadata": {},
     "output_type": "execute_result"
    }
   ],
   "source": [
    "b"
   ]
  },
  {
   "cell_type": "code",
   "execution_count": 6,
   "id": "3897360e-185c-499c-bf43-8d02cda5d730",
   "metadata": {},
   "outputs": [
    {
     "data": {
      "text/plain": [
       "int"
      ]
     },
     "execution_count": 6,
     "metadata": {},
     "output_type": "execute_result"
    }
   ],
   "source": [
    "type(b)"
   ]
  },
  {
   "cell_type": "code",
   "execution_count": 10,
   "id": "23cb2b42-6f4a-4b5c-a7dc-156c02169d91",
   "metadata": {},
   "outputs": [],
   "source": [
    "s = 'rama'"
   ]
  },
  {
   "cell_type": "code",
   "execution_count": 12,
   "id": "12e631ab-ef30-49cc-9e4a-62e4d53957e1",
   "metadata": {},
   "outputs": [
    {
     "data": {
      "text/plain": [
       "'rama'"
      ]
     },
     "execution_count": 12,
     "metadata": {},
     "output_type": "execute_result"
    }
   ],
   "source": [
    "s"
   ]
  },
  {
   "cell_type": "code",
   "execution_count": 16,
   "id": "18b17838-06ad-4b8c-94fb-599e2a9050ff",
   "metadata": {},
   "outputs": [
    {
     "ename": "IndexError",
     "evalue": "string index out of range",
     "output_type": "error",
     "traceback": [
      "\u001b[0;31m---------------------------------------------------------------------------\u001b[0m",
      "\u001b[0;31mIndexError\u001b[0m                                Traceback (most recent call last)",
      "Cell \u001b[0;32mIn[16], line 1\u001b[0m\n\u001b[0;32m----> 1\u001b[0m \u001b[43ms\u001b[49m\u001b[43m[\u001b[49m\u001b[38;5;241;43m100\u001b[39;49m\u001b[43m]\u001b[49m\n",
      "\u001b[0;31mIndexError\u001b[0m: string index out of range"
     ]
    }
   ],
   "source": [
    "s[100]"
   ]
  },
  {
   "cell_type": "code",
   "execution_count": 18,
   "id": "714ac7c2-cd0a-4720-8935-f553f7ff8e94",
   "metadata": {},
   "outputs": [
    {
     "data": {
      "text/plain": [
       "'m'"
      ]
     },
     "execution_count": 18,
     "metadata": {},
     "output_type": "execute_result"
    }
   ],
   "source": [
    "s[2]"
   ]
  },
  {
   "cell_type": "code",
   "execution_count": 21,
   "id": "f6e911f2-082c-40df-a2e8-22765815def6",
   "metadata": {},
   "outputs": [
    {
     "data": {
      "text/plain": [
       "'a'"
      ]
     },
     "execution_count": 21,
     "metadata": {},
     "output_type": "execute_result"
    }
   ],
   "source": [
    "s[-1]"
   ]
  },
  {
   "cell_type": "code",
   "execution_count": 30,
   "id": "6ff85fa5-c25c-4d91-938c-3696ca0070a7",
   "metadata": {},
   "outputs": [
    {
     "data": {
      "text/plain": [
       "'r'"
      ]
     },
     "execution_count": 30,
     "metadata": {},
     "output_type": "execute_result"
    }
   ],
   "source": [
    "s[-4]"
   ]
  },
  {
   "cell_type": "code",
   "execution_count": 31,
   "id": "76d2b513-3402-4548-9698-d7a5e46e2cd8",
   "metadata": {},
   "outputs": [],
   "source": [
    "s1 = \"pwskills\""
   ]
  },
  {
   "cell_type": "code",
   "execution_count": 33,
   "id": "b02ccc33-64c4-4901-bb1e-fbc3c94af7a1",
   "metadata": {},
   "outputs": [
    {
     "data": {
      "text/plain": [
       "'pw'"
      ]
     },
     "execution_count": 33,
     "metadata": {},
     "output_type": "execute_result"
    }
   ],
   "source": [
    "s1[0:2]"
   ]
  },
  {
   "cell_type": "code",
   "execution_count": 35,
   "id": "8c5bb6ed-8f00-47da-bb09-93e19485b42e",
   "metadata": {},
   "outputs": [
    {
     "data": {
      "text/plain": [
       "'skil'"
      ]
     },
     "execution_count": 35,
     "metadata": {},
     "output_type": "execute_result"
    }
   ],
   "source": [
    "s1[2:6]"
   ]
  },
  {
   "cell_type": "code",
   "execution_count": 37,
   "id": "abaaaa54-1c35-4156-b594-6b9d8cfe7e4c",
   "metadata": {},
   "outputs": [
    {
     "data": {
      "text/plain": [
       "'skills'"
      ]
     },
     "execution_count": 37,
     "metadata": {},
     "output_type": "execute_result"
    }
   ],
   "source": [
    "s1[2:8]"
   ]
  },
  {
   "cell_type": "code",
   "execution_count": 39,
   "id": "6be12cd4-772b-43b2-af0f-f748a4dd60d1",
   "metadata": {},
   "outputs": [
    {
     "data": {
      "text/plain": [
       "'skills'"
      ]
     },
     "execution_count": 39,
     "metadata": {},
     "output_type": "execute_result"
    }
   ],
   "source": [
    "s1[2:800]"
   ]
  },
  {
   "cell_type": "code",
   "execution_count": 41,
   "id": "538a17f2-1943-4918-97f0-3a555704ebd3",
   "metadata": {},
   "outputs": [
    {
     "ename": "NameError",
     "evalue": "name 'S1' is not defined",
     "output_type": "error",
     "traceback": [
      "\u001b[0;31m---------------------------------------------------------------------------\u001b[0m",
      "\u001b[0;31mNameError\u001b[0m                                 Traceback (most recent call last)",
      "Cell \u001b[0;32mIn[41], line 1\u001b[0m\n\u001b[0;32m----> 1\u001b[0m \u001b[43mS1\u001b[49m[\u001b[38;5;241m2\u001b[39m:]\n",
      "\u001b[0;31mNameError\u001b[0m: name 'S1' is not defined"
     ]
    }
   ],
   "source": [
    "S1[2:]"
   ]
  },
  {
   "cell_type": "code",
   "execution_count": 43,
   "id": "f1a21345-5f50-4bc6-bef6-580f8caa256e",
   "metadata": {},
   "outputs": [
    {
     "data": {
      "text/plain": [
       "'skills'"
      ]
     },
     "execution_count": 43,
     "metadata": {},
     "output_type": "execute_result"
    }
   ],
   "source": [
    "s1[2:]"
   ]
  },
  {
   "cell_type": "code",
   "execution_count": 45,
   "id": "2e70a185-ac43-4589-873e-ea86f4cf5f0d",
   "metadata": {},
   "outputs": [
    {
     "data": {
      "text/plain": [
       "'pwskill'"
      ]
     },
     "execution_count": 45,
     "metadata": {},
     "output_type": "execute_result"
    }
   ],
   "source": [
    "s1[0:7:1]"
   ]
  },
  {
   "cell_type": "code",
   "execution_count": 52,
   "id": "1d98fc97-e22b-4cae-82f7-e8c41bbec37c",
   "metadata": {},
   "outputs": [
    {
     "data": {
      "text/plain": [
       "'psil'"
      ]
     },
     "execution_count": 52,
     "metadata": {},
     "output_type": "execute_result"
    }
   ],
   "source": [
    "s1[0:8:2]"
   ]
  },
  {
   "cell_type": "code",
   "execution_count": 55,
   "id": "9790e75a-3cb2-43ac-9e70-17b547dbb644",
   "metadata": {},
   "outputs": [
    {
     "data": {
      "text/plain": [
       "'slli'"
      ]
     },
     "execution_count": 55,
     "metadata": {},
     "output_type": "execute_result"
    }
   ],
   "source": [
    "s1[7:3:-1]"
   ]
  },
  {
   "cell_type": "code",
   "execution_count": 60,
   "id": "04a93f7a-c67c-43c9-bfec-324f1d0f9d43",
   "metadata": {},
   "outputs": [
    {
     "data": {
      "text/plain": [
       "'slli'"
      ]
     },
     "execution_count": 60,
     "metadata": {},
     "output_type": "execute_result"
    }
   ],
   "source": [
    "s1[-1:-5:-1]"
   ]
  },
  {
   "cell_type": "code",
   "execution_count": 63,
   "id": "46f7c06d-b7b3-4fe1-89af-1ee9674648d2",
   "metadata": {},
   "outputs": [
    {
     "data": {
      "text/plain": [
       "'slliksw'"
      ]
     },
     "execution_count": 63,
     "metadata": {},
     "output_type": "execute_result"
    }
   ],
   "source": [
    "s1[7:0:-1]"
   ]
  },
  {
   "cell_type": "code",
   "execution_count": 65,
   "id": "09e38bac-16c0-4804-bb0d-c6a48c7cb0cc",
   "metadata": {},
   "outputs": [
    {
     "data": {
      "text/plain": [
       "'sllikswp'"
      ]
     },
     "execution_count": 65,
     "metadata": {},
     "output_type": "execute_result"
    }
   ],
   "source": [
    "s1[-1:-9:-1]"
   ]
  },
  {
   "cell_type": "code",
   "execution_count": 67,
   "id": "208ffaec-cae5-4c1f-9c11-22f859045f62",
   "metadata": {},
   "outputs": [
    {
     "data": {
      "text/plain": [
       "'sllikswp'"
      ]
     },
     "execution_count": 67,
     "metadata": {},
     "output_type": "execute_result"
    }
   ],
   "source": [
    "s1[7:-9:-1]"
   ]
  },
  {
   "cell_type": "code",
   "execution_count": 69,
   "id": "512bd46a-59fa-441c-a433-b4e6eebedceb",
   "metadata": {},
   "outputs": [
    {
     "data": {
      "text/plain": [
       "'sllikswp'"
      ]
     },
     "execution_count": 69,
     "metadata": {},
     "output_type": "execute_result"
    }
   ],
   "source": [
    "s1[7::-1]"
   ]
  },
  {
   "cell_type": "code",
   "execution_count": 71,
   "id": "386ed37a-061a-44d8-8654-a3ec7130942b",
   "metadata": {},
   "outputs": [
    {
     "data": {
      "text/plain": [
       "'sllikswp'"
      ]
     },
     "execution_count": 71,
     "metadata": {},
     "output_type": "execute_result"
    }
   ],
   "source": [
    "s1[::-1]"
   ]
  },
  {
   "cell_type": "code",
   "execution_count": 72,
   "id": "1cf81535-ba03-4618-bc0b-02d4c4c98591",
   "metadata": {},
   "outputs": [
    {
     "data": {
      "text/plain": [
       "'psil'"
      ]
     },
     "execution_count": 72,
     "metadata": {},
     "output_type": "execute_result"
    }
   ],
   "source": [
    "s1[0:8:2]"
   ]
  },
  {
   "cell_type": "code",
   "execution_count": 74,
   "id": "59e42ce3-9025-49b2-bf0f-bef8ef3727f7",
   "metadata": {},
   "outputs": [
    {
     "data": {
      "text/plain": [
       "'psil'"
      ]
     },
     "execution_count": 74,
     "metadata": {},
     "output_type": "execute_result"
    }
   ],
   "source": [
    "s1[0:7:2]"
   ]
  },
  {
   "cell_type": "code",
   "execution_count": 76,
   "id": "876bbb88-2ab1-4cad-b3f8-ad656ff68574",
   "metadata": {},
   "outputs": [
    {
     "data": {
      "text/plain": [
       "'pwskills'"
      ]
     },
     "execution_count": 76,
     "metadata": {},
     "output_type": "execute_result"
    }
   ],
   "source": [
    "s1"
   ]
  },
  {
   "cell_type": "code",
   "execution_count": 78,
   "id": "018e7060-f119-4ebb-ad54-b9587dee66c0",
   "metadata": {},
   "outputs": [
    {
     "data": {
      "text/plain": [
       "'p'"
      ]
     },
     "execution_count": 78,
     "metadata": {},
     "output_type": "execute_result"
    }
   ],
   "source": [
    "s1[0]"
   ]
  },
  {
   "cell_type": "code",
   "execution_count": 79,
   "id": "87ca2d45-94ba-4590-812e-717986667146",
   "metadata": {},
   "outputs": [
    {
     "data": {
      "text/plain": [
       "'pwskills'"
      ]
     },
     "execution_count": 79,
     "metadata": {},
     "output_type": "execute_result"
    }
   ],
   "source": [
    "s1"
   ]
  },
  {
   "cell_type": "code",
   "execution_count": 86,
   "id": "46d23c74-f064-4c06-8513-dfbe2f971b76",
   "metadata": {},
   "outputs": [],
   "source": [
    "x = 10"
   ]
  },
  {
   "cell_type": "code",
   "execution_count": 87,
   "id": "77677697-fd69-41fe-aa5d-3622404de7b2",
   "metadata": {},
   "outputs": [],
   "source": [
    "name = 'john'"
   ]
  },
  {
   "cell_type": "code",
   "execution_count": 88,
   "id": "886c3b70-3227-4b36-aedb-de487574132b",
   "metadata": {},
   "outputs": [],
   "source": [
    "age = 25"
   ]
  },
  {
   "cell_type": "code",
   "execution_count": 100,
   "id": "5d1a3553-1d23-4820-aac0-f8c666e5073a",
   "metadata": {},
   "outputs": [
    {
     "name": "stdout",
     "output_type": "stream",
     "text": [
      "My name is john and I am 25 years old.\n"
     ]
    }
   ],
   "source": [
    "print(\"My name is\", name, \"and I am\", age, \"years old.\")"
   ]
  },
  {
   "cell_type": "code",
   "execution_count": 101,
   "id": "31b47c2a-7484-4cdb-a914-c3f50c124c30",
   "metadata": {},
   "outputs": [],
   "source": [
    "word = \"python\""
   ]
  },
  {
   "cell_type": "code",
   "execution_count": 103,
   "id": "5e69e4db-8ff4-4cdb-b8d0-373aac6b9c1c",
   "metadata": {},
   "outputs": [
    {
     "name": "stdout",
     "output_type": "stream",
     "text": [
      "t\n"
     ]
    }
   ],
   "source": [
    "print(word[2])"
   ]
  },
  {
   "cell_type": "code",
   "execution_count": 114,
   "id": "a2a644eb-be56-4565-9ba6-b35b2d9ff659",
   "metadata": {},
   "outputs": [],
   "source": [
    "s1 = \"rama\""
   ]
  },
  {
   "cell_type": "code",
   "execution_count": 116,
   "id": "9f5760b2-eb62-4317-a9ef-ab6338d4dfa5",
   "metadata": {},
   "outputs": [
    {
     "data": {
      "text/plain": [
       "4"
      ]
     },
     "execution_count": 116,
     "metadata": {},
     "output_type": "execute_result"
    }
   ],
   "source": [
    "len(s1)"
   ]
  },
  {
   "cell_type": "code",
   "execution_count": 118,
   "id": "839d69fa-d55d-4be3-b395-67321c698826",
   "metadata": {},
   "outputs": [
    {
     "data": {
      "text/plain": [
       "'RAMA'"
      ]
     },
     "execution_count": 118,
     "metadata": {},
     "output_type": "execute_result"
    }
   ],
   "source": [
    "str.upper(s1)"
   ]
  },
  {
   "cell_type": "code",
   "execution_count": 119,
   "id": "3110f9a2-f41b-4a84-9a07-d8e18603faa0",
   "metadata": {},
   "outputs": [],
   "source": [
    "text = \"Hello, World!\""
   ]
  },
  {
   "cell_type": "code",
   "execution_count": 121,
   "id": "2c971466-405e-40a6-98f0-5254a0a6a817",
   "metadata": {},
   "outputs": [
    {
     "name": "stdout",
     "output_type": "stream",
     "text": [
      "World\n"
     ]
    }
   ],
   "source": [
    "print(text[7:12])"
   ]
  },
  {
   "cell_type": "code",
   "execution_count": 129,
   "id": "ec4c97b7-d3ed-4c5a-9192-6f53bc7c0497",
   "metadata": {},
   "outputs": [],
   "source": [
    "phrase = \"python is fun!\""
   ]
  },
  {
   "cell_type": "code",
   "execution_count": 131,
   "id": "9f21effe-4fb1-45f5-aa91-7bdb53bcffc2",
   "metadata": {},
   "outputs": [],
   "source": [
    "new_phrase = phrase.replace(\"fun\", \"awesome\")"
   ]
  },
  {
   "cell_type": "code",
   "execution_count": 133,
   "id": "73b6bdf6-842b-4f4b-8c6f-a986e1b4a180",
   "metadata": {},
   "outputs": [
    {
     "name": "stdout",
     "output_type": "stream",
     "text": [
      "python is awesome!\n"
     ]
    }
   ],
   "source": [
    "print(new_phrase)"
   ]
  },
  {
   "cell_type": "code",
   "execution_count": 135,
   "id": "a1854bf3-438d-4f3e-964d-b20294c65218",
   "metadata": {},
   "outputs": [],
   "source": [
    "string1 = \"python\""
   ]
  },
  {
   "cell_type": "code",
   "execution_count": 137,
   "id": "8e9bc81f-a740-41ed-8fa9-e3a31245c547",
   "metadata": {},
   "outputs": [],
   "source": [
    "string2 = \"programming\""
   ]
  },
  {
   "cell_type": "code",
   "execution_count": 139,
   "id": "4add245d-8712-477d-8b53-4cd743684872",
   "metadata": {},
   "outputs": [],
   "source": [
    "result = string1 + \" \" + string2"
   ]
  },
  {
   "cell_type": "code",
   "execution_count": 141,
   "id": "0cf490ed-e903-493a-8117-19ea13a9bdfb",
   "metadata": {},
   "outputs": [
    {
     "name": "stdout",
     "output_type": "stream",
     "text": [
      "python programming\n"
     ]
    }
   ],
   "source": [
    "print(result)"
   ]
  },
  {
   "cell_type": "code",
   "execution_count": 143,
   "id": "2dc2fc1b-b45a-4a15-8da9-080cd6d47b54",
   "metadata": {},
   "outputs": [],
   "source": [
    "word = \"python\""
   ]
  },
  {
   "cell_type": "code",
   "execution_count": 146,
   "id": "6f4b124f-bcf8-4452-b468-b173fc7b466e",
   "metadata": {},
   "outputs": [],
   "source": [
    "repeated_word = word * 3"
   ]
  },
  {
   "cell_type": "code",
   "execution_count": 149,
   "id": "aa6cf057-9d3d-492d-849f-e77b4c9dcc18",
   "metadata": {},
   "outputs": [
    {
     "name": "stdout",
     "output_type": "stream",
     "text": [
      "pythonpythonpython\n"
     ]
    }
   ],
   "source": [
    "print(repeated_word)"
   ]
  },
  {
   "cell_type": "code",
   "execution_count": 151,
   "id": "ef54193d-9f5b-455f-8137-c0362e3c7dda",
   "metadata": {},
   "outputs": [],
   "source": [
    "a = 10"
   ]
  },
  {
   "cell_type": "code",
   "execution_count": 155,
   "id": "82b21fb5-262b-4824-b272-6cf336537400",
   "metadata": {},
   "outputs": [
    {
     "data": {
      "text/plain": [
       "'10'"
      ]
     },
     "execution_count": 155,
     "metadata": {},
     "output_type": "execute_result"
    }
   ],
   "source": [
    "str(a)"
   ]
  },
  {
   "cell_type": "code",
   "execution_count": 157,
   "id": "28113514-6d77-4181-9149-f7b6d8b945cc",
   "metadata": {},
   "outputs": [],
   "source": [
    "message = \"Hello, World!\""
   ]
  },
  {
   "cell_type": "code",
   "execution_count": 160,
   "id": "51f9be73-501e-45a2-bb9b-218ba865998a",
   "metadata": {},
   "outputs": [
    {
     "name": "stdout",
     "output_type": "stream",
     "text": [
      "World\n"
     ]
    }
   ],
   "source": [
    "print(message[-6:-1])"
   ]
  },
  {
   "cell_type": "code",
   "execution_count": 162,
   "id": "e79a343d-2fd4-4de5-85b1-50df191fdae7",
   "metadata": {},
   "outputs": [],
   "source": [
    "word = \"python\""
   ]
  },
  {
   "cell_type": "code",
   "execution_count": 166,
   "id": "96ae2c2b-c397-497f-b98b-dd4d9b92f24a",
   "metadata": {},
   "outputs": [],
   "source": [
    "capitalized_word = word.capitalize()"
   ]
  },
  {
   "cell_type": "code",
   "execution_count": 169,
   "id": "f4c4fbca-c3ca-4fcd-b2b3-1d5da80ccd12",
   "metadata": {},
   "outputs": [
    {
     "name": "stdout",
     "output_type": "stream",
     "text": [
      "Python\n"
     ]
    }
   ],
   "source": [
    "print(capitalized_word)"
   ]
  },
  {
   "cell_type": "code",
   "execution_count": 181,
   "id": "c33d1219-2bd1-4148-a2c3-dd1416185b78",
   "metadata": {},
   "outputs": [],
   "source": [
    "text = \" Hello, World! \""
   ]
  },
  {
   "cell_type": "code",
   "execution_count": 183,
   "id": "5e90a3d7-baa9-4d51-b462-f61dd4329f44",
   "metadata": {},
   "outputs": [],
   "source": [
    "trimmed_text = text.strip()"
   ]
  },
  {
   "cell_type": "code",
   "execution_count": 185,
   "id": "00a177f1-cf9e-442d-b14c-76eb568d86c0",
   "metadata": {},
   "outputs": [
    {
     "name": "stdout",
     "output_type": "stream",
     "text": [
      "Hello, World!\n"
     ]
    }
   ],
   "source": [
    "print(trimmed_text)"
   ]
  },
  {
   "cell_type": "code",
   "execution_count": 188,
   "id": "e06d26fd-c37b-4dba-8528-70a75c3628af",
   "metadata": {},
   "outputs": [],
   "source": [
    "a = \"RAMA\""
   ]
  },
  {
   "cell_type": "code",
   "execution_count": 190,
   "id": "4548ecdd-5854-44e4-b298-471b243ff772",
   "metadata": {},
   "outputs": [
    {
     "data": {
      "text/plain": [
       "'rama'"
      ]
     },
     "execution_count": 190,
     "metadata": {},
     "output_type": "execute_result"
    }
   ],
   "source": [
    "str.lower(a)"
   ]
  },
  {
   "cell_type": "code",
   "execution_count": 201,
   "id": "033aae99-82da-4cba-bd87-c240072a5dbc",
   "metadata": {},
   "outputs": [],
   "source": [
    "x = 10"
   ]
  },
  {
   "cell_type": "code",
   "execution_count": 203,
   "id": "e33dce42-061c-4468-bf04-08fed7cde0ca",
   "metadata": {},
   "outputs": [],
   "source": [
    "x = x + 5"
   ]
  },
  {
   "cell_type": "code",
   "execution_count": 204,
   "id": "c87a292e-30db-4a10-90b7-e65e2af7ecd7",
   "metadata": {},
   "outputs": [
    {
     "data": {
      "text/plain": [
       "20"
      ]
     },
     "execution_count": 204,
     "metadata": {},
     "output_type": "execute_result"
    }
   ],
   "source": [
    "x"
   ]
  }
 ],
 "metadata": {
  "kernelspec": {
   "display_name": "Python 3 (ipykernel)",
   "language": "python",
   "name": "python3"
  },
  "language_info": {
   "codemirror_mode": {
    "name": "ipython",
    "version": 3
   },
   "file_extension": ".py",
   "mimetype": "text/x-python",
   "name": "python",
   "nbconvert_exporter": "python",
   "pygments_lexer": "ipython3",
   "version": "3.10.8"
  }
 },
 "nbformat": 4,
 "nbformat_minor": 5
}
